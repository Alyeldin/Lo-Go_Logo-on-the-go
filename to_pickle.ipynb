{
 "cells": [
  {
   "cell_type": "code",
   "execution_count": 1,
   "metadata": {},
   "outputs": [],
   "source": [
    "import pickle\n",
    "# Pickle path = '../data/mypickle.pickle'\n",
    "mypickle = {\n",
    "    \"Filenames\": ['lld_1.jpg','lld_4.jpg','lld_2.jpg','lld_3.jpg','lld_7.jpg','lld_9.jpg',], \n",
    "    \"Labels\": [0,0,1,1,2,2]\n",
    "    #0 square 1 circle 2 other\n",
    "}\n",
    "\n",
    "pickle.dump(mypickle, open('mypickle.pickle', 'wb'))\n"
   ]
  }
 ],
 "metadata": {
  "kernelspec": {
   "display_name": "Python 3",
   "language": "python",
   "name": "python3"
  },
  "language_info": {
   "codemirror_mode": {
    "name": "ipython",
    "version": 3
   },
   "file_extension": ".py",
   "mimetype": "text/x-python",
   "name": "python",
   "nbconvert_exporter": "python",
   "pygments_lexer": "ipython3",
   "version": "3.7.0 (v3.7.0:1bf9cc5093, Jun 27 2018, 04:59:51) [MSC v.1914 64 bit (AMD64)]"
  },
  "orig_nbformat": 4,
  "vscode": {
   "interpreter": {
    "hash": "f703ccf650467d2787b30a7549937d4a5b4f992dc13ef9b6cc8bda4cf48eca72"
   }
  }
 },
 "nbformat": 4,
 "nbformat_minor": 2
}
