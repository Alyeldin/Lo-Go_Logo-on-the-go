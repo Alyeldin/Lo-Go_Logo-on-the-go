{
 "cells": [
  {
   "cell_type": "code",
   "execution_count": 5,
   "metadata": {},
   "outputs": [],
   "source": [
    "import pickle\n",
    "# Pickle path = '../data/mypickle.pickle'\n",
    "mypickle = {\n",
    "    \"Filenames\": ['1.jpg','6.jpg','3.jpg','2.jpg','4.jpg','5.jpg'], \n",
    "    \"Labels\": [0,0,0,1,1,1]\n",
    "}\n",
    "\n",
    "pickle.dump(mypickle, open('data/mypickle.pickle', 'wb'))\n"
   ]
  }
 ],
 "metadata": {
  "kernelspec": {
   "display_name": "Python 3",
   "language": "python",
   "name": "python3"
  },
  "language_info": {
   "codemirror_mode": {
    "name": "ipython",
    "version": 3
   },
   "file_extension": ".py",
   "mimetype": "text/x-python",
   "name": "python",
   "nbconvert_exporter": "python",
   "pygments_lexer": "ipython3",
   "version": "3.7.0"
  },
  "orig_nbformat": 4,
  "vscode": {
   "interpreter": {
    "hash": "f703ccf650467d2787b30a7549937d4a5b4f992dc13ef9b6cc8bda4cf48eca72"
   }
  }
 },
 "nbformat": 4,
 "nbformat_minor": 2
}
