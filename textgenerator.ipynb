{
 "cells": [
  {
   "cell_type": "code",
   "execution_count": 73,
   "metadata": {},
   "outputs": [],
   "source": [
    "# import random\n",
    "# age=['children','youth','adults','seniors']\n",
    "# gender=['male','female']\n",
    "# socialclass=['a','b','c']\n",
    "# jobs=['weather','police','medical', 'engineer','sales','computer science','mass communication','cinema','education','restaurants','mechanic','enviroment']\n",
    "\n",
    "# print(random.choice(age),random.choice(gender),random.choice(socialclass),random.choice(jobs))\n",
    "\n",
    "# color=['red','green','yellow','blue','grey','black','orange','pink','purple','brown']\n",
    "# font=['simple','complex','cartoonish','elegant']\n",
    "# position=['down','up','left','right']\n",
    "# print(random.choice(color),random.choice(font),random.choice(position))"
   ]
  },
  {
   "cell_type": "code",
   "execution_count": 74,
   "metadata": {},
   "outputs": [],
   "source": [
    "# import xlwt\n",
    "# from xlwt import Workbook\n",
    "  \n",
    "# # Workbook is created\n",
    "# wb = Workbook()\n",
    "  \n",
    "# # add_sheet is used to create sheet.\n",
    "# sheet1 = wb.add_sheet('Sheet 1')\n",
    "  \n",
    "# # sheet1.write(2, 0, random.choice(age))\n",
    "# sheet1.write(0, 0, 'Age')\n",
    "# sheet1.write(0, 1, 'Gender')\n",
    "# sheet1.write(0, 2, 'Social Class')\n",
    "# sheet1.write(0, 3, 'Job')\n",
    "# sheet1.write(0, 4,'Color')\n",
    "# sheet1.write(0, 5, 'Font')\n",
    "# sheet1.write(0, 6, 'Position')\n",
    "\n",
    "# for i in range(1, 1000):\n",
    "#     sheet1.write(i, 0, random.choice(age))\n",
    "#     sheet1.write(i, 1, random.choice(gender))\n",
    "#     sheet1.write(i, 2, random.choice(socialclass))\n",
    "#     sheet1.write(i, 3, random.choice(jobs))\n",
    "#     sheet1.write(i, 4, random.choice(color))\n",
    "#     sheet1.write(i, 5, random.choice(font))\n",
    "#     sheet1.write(i, 6, random.choice(position))\n",
    "\n",
    "# wb.save('dummydata2.xls')"
   ]
  },
  {
   "cell_type": "code",
   "execution_count": 75,
   "metadata": {},
   "outputs": [],
   "source": [
    "from sklearn import preprocessing\n",
    "from sklearn.model_selection import train_test_split\n",
    "from sklearn.neighbors import KNeighborsClassifier\n",
    "from sklearn.metrics import classification_report\n",
    "from sklearn.metrics import accuracy_score\n",
    "import matplotlib.pyplot as plt\n",
    "import seaborn as sns\n",
    "import pandas as pd\n",
    "import pickle"
   ]
  },
  {
   "cell_type": "code",
   "execution_count": 76,
   "metadata": {},
   "outputs": [
    {
     "data": {
      "text/html": [
       "<div>\n",
       "<style scoped>\n",
       "    .dataframe tbody tr th:only-of-type {\n",
       "        vertical-align: middle;\n",
       "    }\n",
       "\n",
       "    .dataframe tbody tr th {\n",
       "        vertical-align: top;\n",
       "    }\n",
       "\n",
       "    .dataframe thead th {\n",
       "        text-align: right;\n",
       "    }\n",
       "</style>\n",
       "<table border=\"1\" class=\"dataframe\">\n",
       "  <thead>\n",
       "    <tr style=\"text-align: right;\">\n",
       "      <th></th>\n",
       "      <th>Age</th>\n",
       "      <th>Gender</th>\n",
       "      <th>Social Class</th>\n",
       "      <th>Job</th>\n",
       "      <th>Color</th>\n",
       "      <th>Font</th>\n",
       "      <th>Position</th>\n",
       "    </tr>\n",
       "  </thead>\n",
       "  <tbody>\n",
       "    <tr>\n",
       "      <th>0</th>\n",
       "      <td>seniors</td>\n",
       "      <td>female</td>\n",
       "      <td>a</td>\n",
       "      <td>enviroment</td>\n",
       "      <td>blue</td>\n",
       "      <td>complex</td>\n",
       "      <td>up</td>\n",
       "    </tr>\n",
       "    <tr>\n",
       "      <th>1</th>\n",
       "      <td>youth</td>\n",
       "      <td>female</td>\n",
       "      <td>c</td>\n",
       "      <td>education</td>\n",
       "      <td>blue</td>\n",
       "      <td>simple</td>\n",
       "      <td>up</td>\n",
       "    </tr>\n",
       "    <tr>\n",
       "      <th>2</th>\n",
       "      <td>adults</td>\n",
       "      <td>male</td>\n",
       "      <td>a</td>\n",
       "      <td>mass communication</td>\n",
       "      <td>orange</td>\n",
       "      <td>elegant</td>\n",
       "      <td>left</td>\n",
       "    </tr>\n",
       "    <tr>\n",
       "      <th>3</th>\n",
       "      <td>adults</td>\n",
       "      <td>female</td>\n",
       "      <td>a</td>\n",
       "      <td>enviroment</td>\n",
       "      <td>black</td>\n",
       "      <td>simple</td>\n",
       "      <td>down</td>\n",
       "    </tr>\n",
       "    <tr>\n",
       "      <th>4</th>\n",
       "      <td>seniors</td>\n",
       "      <td>male</td>\n",
       "      <td>c</td>\n",
       "      <td>sales</td>\n",
       "      <td>yellow</td>\n",
       "      <td>simple</td>\n",
       "      <td>left</td>\n",
       "    </tr>\n",
       "  </tbody>\n",
       "</table>\n",
       "</div>"
      ],
      "text/plain": [
       "       Age  Gender Social Class                 Job   Color     Font Position\n",
       "0  seniors  female            a          enviroment    blue  complex       up\n",
       "1    youth  female            c           education    blue   simple       up\n",
       "2   adults    male            a  mass communication  orange  elegant     left\n",
       "3   adults  female            a          enviroment   black   simple     down\n",
       "4  seniors    male            c               sales  yellow   simple     left"
      ]
     },
     "execution_count": 76,
     "metadata": {},
     "output_type": "execute_result"
    }
   ],
   "source": [
    "df = pd.read_csv('dummydata2.csv')\n",
    "df.head()"
   ]
  },
  {
   "cell_type": "code",
   "execution_count": 77,
   "metadata": {},
   "outputs": [
    {
     "data": {
      "text/html": [
       "<div>\n",
       "<style scoped>\n",
       "    .dataframe tbody tr th:only-of-type {\n",
       "        vertical-align: middle;\n",
       "    }\n",
       "\n",
       "    .dataframe tbody tr th {\n",
       "        vertical-align: top;\n",
       "    }\n",
       "\n",
       "    .dataframe thead th {\n",
       "        text-align: right;\n",
       "    }\n",
       "</style>\n",
       "<table border=\"1\" class=\"dataframe\">\n",
       "  <thead>\n",
       "    <tr style=\"text-align: right;\">\n",
       "      <th></th>\n",
       "      <th>Age</th>\n",
       "      <th>Gender</th>\n",
       "      <th>Social Class</th>\n",
       "      <th>Job</th>\n",
       "      <th>Color</th>\n",
       "      <th>Font</th>\n",
       "      <th>Position</th>\n",
       "    </tr>\n",
       "  </thead>\n",
       "  <tbody>\n",
       "    <tr>\n",
       "      <th>0</th>\n",
       "      <td>0</td>\n",
       "      <td>0</td>\n",
       "      <td>0</td>\n",
       "      <td>0</td>\n",
       "      <td>blue</td>\n",
       "      <td>complex</td>\n",
       "      <td>up</td>\n",
       "    </tr>\n",
       "    <tr>\n",
       "      <th>1</th>\n",
       "      <td>1</td>\n",
       "      <td>0</td>\n",
       "      <td>1</td>\n",
       "      <td>1</td>\n",
       "      <td>blue</td>\n",
       "      <td>simple</td>\n",
       "      <td>up</td>\n",
       "    </tr>\n",
       "    <tr>\n",
       "      <th>2</th>\n",
       "      <td>2</td>\n",
       "      <td>1</td>\n",
       "      <td>0</td>\n",
       "      <td>2</td>\n",
       "      <td>orange</td>\n",
       "      <td>elegant</td>\n",
       "      <td>left</td>\n",
       "    </tr>\n",
       "    <tr>\n",
       "      <th>3</th>\n",
       "      <td>2</td>\n",
       "      <td>0</td>\n",
       "      <td>0</td>\n",
       "      <td>0</td>\n",
       "      <td>black</td>\n",
       "      <td>simple</td>\n",
       "      <td>down</td>\n",
       "    </tr>\n",
       "    <tr>\n",
       "      <th>4</th>\n",
       "      <td>0</td>\n",
       "      <td>1</td>\n",
       "      <td>1</td>\n",
       "      <td>3</td>\n",
       "      <td>yellow</td>\n",
       "      <td>simple</td>\n",
       "      <td>left</td>\n",
       "    </tr>\n",
       "  </tbody>\n",
       "</table>\n",
       "</div>"
      ],
      "text/plain": [
       "   Age  Gender  Social Class  Job   Color     Font Position\n",
       "0    0       0             0    0    blue  complex       up\n",
       "1    1       0             1    1    blue   simple       up\n",
       "2    2       1             0    2  orange  elegant     left\n",
       "3    2       0             0    0   black   simple     down\n",
       "4    0       1             1    3  yellow   simple     left"
      ]
     },
     "execution_count": 77,
     "metadata": {},
     "output_type": "execute_result"
    }
   ],
   "source": [
    "df['Age'], age_label = pd.factorize(df['Age'])\n",
    "df['Gender'], gender_label = pd.factorize(df['Gender'])\n",
    "df['Social Class'], social_class_label = pd.factorize(df['Social Class'])\n",
    "df['Job'], job_label = pd.factorize(df['Job'])\n",
    "df.head()"
   ]
  },
  {
   "cell_type": "code",
   "execution_count": 78,
   "metadata": {},
   "outputs": [
    {
     "name": "stdout",
     "output_type": "stream",
     "text": [
      "   Age  Gender  Social Class  Job\n",
      "0    0       0             0    0\n",
      "1    1       0             1    1\n",
      "2    2       1             0    2\n",
      "3    2       0             0    0\n",
      "4    0       1             1    3\n"
     ]
    }
   ],
   "source": [
    "x_data = df.drop(['Color','Font','Position'],axis=1)\n",
    "y_color = df[['Color']]\n",
    "y_font = df[['Font']]\n",
    "y_position = df[['Position']]\n",
    "print(x_data.head())\n"
   ]
  },
  {
   "cell_type": "code",
   "execution_count": 79,
   "metadata": {},
   "outputs": [
    {
     "name": "stdout",
     "output_type": "stream",
     "text": [
      "              precision    recall  f1-score   support\n",
      "\n",
      "        down       0.22      0.32      0.26        50\n",
      "        left       0.22      0.29      0.25        55\n",
      "       right       0.11      0.08      0.09        51\n",
      "          up       0.19      0.07      0.10        44\n",
      "\n",
      "    accuracy                           0.20       200\n",
      "   macro avg       0.18      0.19      0.17       200\n",
      "weighted avg       0.18      0.20      0.18       200\n",
      "\n",
      "Accuracy: 0.195\n"
     ]
    },
    {
     "name": "stderr",
     "output_type": "stream",
     "text": [
      "c:\\Users\\Fady\\AppData\\Local\\Programs\\Python\\Python37\\lib\\site-packages\\sklearn\\neighbors\\_classification.py:198: DataConversionWarning: A column-vector y was passed when a 1d array was expected. Please change the shape of y to (n_samples,), for example using ravel().\n",
      "  return self._fit(X, y)\n"
     ]
    }
   ],
   "source": [
    "X_train, X_test, y_train, y_test = train_test_split(x_data, y_position,test_size=0.2, random_state = 1)\n",
    "knn_clf=KNeighborsClassifier()\n",
    "knn_clf.fit(X_train,y_train)\n",
    "y_pred=knn_clf.predict(X_test)\n",
    "print(classification_report(y_test,y_pred))\n",
    "result2 = accuracy_score(y_test,y_pred)\n",
    "print('Accuracy:',result2)\n",
    "\n",
    "filename1 = 'knn_position_model.sav'\n",
    "pickle.dump(knn_clf, open(filename1, 'wb'))"
   ]
  },
  {
   "cell_type": "code",
   "execution_count": 80,
   "metadata": {},
   "outputs": [
    {
     "name": "stdout",
     "output_type": "stream",
     "text": [
      "0.195\n"
     ]
    }
   ],
   "source": [
    "loaded_model_position = pickle.load(open(filename1, 'rb'))\n",
    "result = loaded_model_position.score(X_test, y_test)\n",
    "print(result)"
   ]
  },
  {
   "cell_type": "code",
   "execution_count": 81,
   "metadata": {},
   "outputs": [
    {
     "name": "stdout",
     "output_type": "stream",
     "text": [
      "              precision    recall  f1-score   support\n",
      "\n",
      "  cartoonish       0.31      0.46      0.37        56\n",
      "     complex       0.15      0.15      0.15        41\n",
      "     elegant       0.25      0.21      0.23        61\n",
      "      simple       0.09      0.05      0.06        42\n",
      "\n",
      "    accuracy                           0.23       200\n",
      "   macro avg       0.20      0.22      0.20       200\n",
      "weighted avg       0.21      0.23      0.22       200\n",
      "\n",
      "Accuracy: 0.235\n"
     ]
    },
    {
     "name": "stderr",
     "output_type": "stream",
     "text": [
      "c:\\Users\\Fady\\AppData\\Local\\Programs\\Python\\Python37\\lib\\site-packages\\sklearn\\neighbors\\_classification.py:198: DataConversionWarning: A column-vector y was passed when a 1d array was expected. Please change the shape of y to (n_samples,), for example using ravel().\n",
      "  return self._fit(X, y)\n"
     ]
    }
   ],
   "source": [
    "X_train, X_test, y_train, y_test = train_test_split(x_data, y_font,test_size=0.2, random_state = 1)\n",
    "knn_clf=KNeighborsClassifier()\n",
    "knn_clf.fit(X_train,y_train)\n",
    "y_pred=knn_clf.predict(X_test)\n",
    "print(classification_report(y_test,y_pred))\n",
    "result2 = accuracy_score(y_test,y_pred)\n",
    "print('Accuracy:',result2)\n",
    "\n",
    "filename2 = 'knn_font_model.sav'\n",
    "pickle.dump(knn_clf, open(filename2, 'wb'))"
   ]
  },
  {
   "cell_type": "code",
   "execution_count": 82,
   "metadata": {},
   "outputs": [
    {
     "name": "stdout",
     "output_type": "stream",
     "text": [
      "0.235\n"
     ]
    }
   ],
   "source": [
    "loaded_model_font = pickle.load(open(filename2, 'rb'))\n",
    "result = loaded_model_font.score(X_test, y_test)\n",
    "print(result)\n"
   ]
  },
  {
   "cell_type": "code",
   "execution_count": 83,
   "metadata": {},
   "outputs": [
    {
     "name": "stderr",
     "output_type": "stream",
     "text": [
      "c:\\Users\\Fady\\AppData\\Local\\Programs\\Python\\Python37\\lib\\site-packages\\sklearn\\neighbors\\_classification.py:198: DataConversionWarning: A column-vector y was passed when a 1d array was expected. Please change the shape of y to (n_samples,), for example using ravel().\n",
      "  return self._fit(X, y)\n"
     ]
    },
    {
     "name": "stdout",
     "output_type": "stream",
     "text": [
      "              precision    recall  f1-score   support\n",
      "\n",
      "       black       0.07      0.23      0.11        22\n",
      "        blue       0.04      0.05      0.04        22\n",
      "       brown       0.08      0.08      0.08        26\n",
      "       green       0.12      0.06      0.08        18\n",
      "        grey       0.15      0.10      0.12        21\n",
      "      orange       0.00      0.00      0.00        12\n",
      "        pink       0.00      0.00      0.00        27\n",
      "      purple       0.00      0.00      0.00        21\n",
      "         red       0.00      0.00      0.00        19\n",
      "      yellow       0.09      0.17      0.11        12\n",
      "\n",
      "    accuracy                           0.07       200\n",
      "   macro avg       0.06      0.07      0.05       200\n",
      "weighted avg       0.06      0.07      0.05       200\n",
      "\n",
      "Accuracy: 0.065\n"
     ]
    }
   ],
   "source": [
    "from sklearn.metrics import classification_report, confusion_matrix, accuracy_score\n",
    "X_train, X_test, y_train, y_test = train_test_split(x_data, y_color,test_size=0.2, random_state = 1)\n",
    "knn_clf=KNeighborsClassifier()\n",
    "knn_clf.fit(X_train,y_train)\n",
    "y_pred=knn_clf.predict(X_test)\n",
    "print(classification_report(y_test,y_pred))\n",
    "result2 = accuracy_score(y_test,y_pred)\n",
    "print('Accuracy:',result2)\n",
    "\n",
    "filename3 = 'knn_color_model.sav'\n",
    "pickle.dump(knn_clf, open(filename3, 'wb'))\n",
    " "
   ]
  },
  {
   "cell_type": "code",
   "execution_count": 84,
   "metadata": {},
   "outputs": [
    {
     "name": "stdout",
     "output_type": "stream",
     "text": [
      "0.065\n"
     ]
    }
   ],
   "source": [
    "loaded_model_color = pickle.load(open(filename3, 'rb'))\n",
    "result = loaded_model_color.score(X_test, y_test)\n",
    "print(result)"
   ]
  },
  {
   "cell_type": "code",
   "execution_count": 85,
   "metadata": {},
   "outputs": [
    {
     "name": "stdout",
     "output_type": "stream",
     "text": [
      "[[2, 0, 2, 4]]\n",
      "red\n",
      "left\n",
      "cartoonish\n"
     ]
    },
    {
     "name": "stderr",
     "output_type": "stream",
     "text": [
      "c:\\Users\\Fady\\AppData\\Local\\Programs\\Python\\Python37\\lib\\site-packages\\sklearn\\base.py:451: UserWarning: X does not have valid feature names, but KNeighborsClassifier was fitted with feature names\n",
      "  \"X does not have valid feature names, but\"\n",
      "c:\\Users\\Fady\\AppData\\Local\\Programs\\Python\\Python37\\lib\\site-packages\\sklearn\\base.py:451: UserWarning: X does not have valid feature names, but KNeighborsClassifier was fitted with feature names\n",
      "  \"X does not have valid feature names, but\"\n",
      "c:\\Users\\Fady\\AppData\\Local\\Programs\\Python\\Python37\\lib\\site-packages\\sklearn\\base.py:451: UserWarning: X does not have valid feature names, but KNeighborsClassifier was fitted with feature names\n",
      "  \"X does not have valid feature names, but\"\n"
     ]
    }
   ],
   "source": [
    "name='Name'\n",
    "slogan='Slogan'\n",
    "input=['adults','female','b','police']\n",
    "\n",
    "factorizedInput=[[\n",
    "age_label.tolist().index(input[0]),\n",
    "gender_label.tolist().index(input[1]),\n",
    "social_class_label.tolist().index(input[2]),\n",
    "job_label.tolist().index(input[3]),\n",
    "]]\n",
    "print(factorizedInput)\n",
    "\n",
    "color=loaded_model_color.predict(factorizedInput)\n",
    "position=loaded_model_position.predict(factorizedInput)\n",
    "font=loaded_model_font.predict(factorizedInput)\n",
    "\n",
    "print(color[0])\n",
    "print(position[0])\n",
    "print(font[0])"
   ]
  },
  {
   "cell_type": "code",
   "execution_count": 86,
   "metadata": {},
   "outputs": [],
   "source": [
    "from PIL import Image\n",
    "from PIL import ImageDraw\n",
    "from PIL import ImageFont\n",
    "from matplotlib import colors\n",
    "\n",
    "def create_image(size, bgColor, name,slogan,sloganFont, font, position):\n",
    "    W, H = size\n",
    "    image = Image.new('RGB', size, bgColor)\n",
    "    draw = ImageDraw.Draw(image)\n",
    "    _, _, w, h = draw.textbbox((0, 0), name, font=font)\n",
    "    _, _, w2, h2 = draw.textbbox((0, 0), slogan, font=sloganFont)\n",
    "    if position == 'down':\n",
    "        draw.text(((W-max(w,w2))/2, (H/2+64)), name, font=font, fill='blue')\n",
    "        draw.text(((W-max(w,w2))/2, (H/2+64+h)), slogan, font=sloganFont, fill='green')\n",
    "    elif position == 'up':\n",
    "        draw.text(((W-max(w,w2))/2, (H-(h+h2))/2-h2-70), name, font=font, fill='blue')\n",
    "        draw.text(((W-max(w,w2))/2, (H-(h+h2))/2-64), slogan, font=sloganFont, fill='green')\n",
    "    elif position == 'left':\n",
    "        draw.text(((W/2-w-68), (H-(h+h2))/2), name, font=font, fill='blue')\n",
    "        draw.text(((W/2-w2-68), (H+h)/2), slogan, font=sloganFont, fill= 'green')\n",
    "    else:\n",
    "        draw.text(((W/2+68), (H-(h+h2))/2), name, font=font, fill='blue')\n",
    "        draw.text(((W/2+68), (H+h2)/2), slogan, font=sloganFont, fill='green')\n",
    "\n",
    "    return image\n",
    "\n",
    "\n",
    "myFont = ImageFont.truetype('fonts/'+font[0]+'.ttf', 40)\n",
    "sloganFont = ImageFont.truetype('fonts/'+font[0]+'.ttf', 30)\n",
    "\n",
    "img = create_image((800,800),'white',name,slogan,sloganFont,myFont,position[0])\n",
    "im2 = Image.open('logo.png')\n",
    "img.paste(im2,[int(400-im2.size[0]/2),int(400-im2.size[1]/2)])\n",
    "\n",
    "img.show()\n",
    "\n",
    "img.save(\"exampletextlogo.png\")"
   ]
  },
  {
   "cell_type": "code",
   "execution_count": null,
   "metadata": {},
   "outputs": [],
   "source": [
    "img = Image.open('exampletextlogo.png').convert('L')\n",
    "img.show()\n",
    "img.save('greyscale.png')"
   ]
  },
  {
   "cell_type": "code",
   "execution_count": null,
   "metadata": {},
   "outputs": [],
   "source": [
    "\n",
    "   \n",
    "# Importing Image from PIL package \n",
    "import numpy as np\n",
    "import cv2\n",
    "from PIL import Image\n",
    "import operator\n",
    "      \n",
    "# creating a image object\n",
    "gray = np.array(Image.open('greyscale.png')) \n",
    "image = cv2.cvtColor(gray,cv2.COLOR_GRAY2RGB)\n",
    "image =Image.fromarray(image)\n",
    "  \n",
    "width, height = image.size\n",
    "\n",
    "for x in range(height):\n",
    "    for y in range(width):\n",
    "        if image.getpixel((x,y)) != (255,255,255):\n",
    "            if color[0]=='blue':\n",
    "                image.putpixel( (x, y), tuple(map(operator.add, image.getpixel((x,y)), (0,50,150))) )\n",
    "            elif color[0]=='red':\n",
    "                image.putpixel( (x, y), tuple(map(operator.add, image.getpixel((x,y)), (150,0,0))) )\n",
    "            elif color[0]=='green':\n",
    "                image.putpixel( (x, y), tuple(map(operator.add, image.getpixel((x,y)), (0,100,0))) )\n",
    "            elif color[0]=='black':\n",
    "                image.putpixel( (x, y), tuple(map(operator.add, image.getpixel((x,y)), (0,0,0))) )\n",
    "            elif color[0]=='grey':\n",
    "                image.putpixel( (x, y), tuple(map(operator.add, image.getpixel((x,y)), (80,80,80))) )\n",
    "            elif color[0]=='brown':\n",
    "                image.putpixel( (x, y), tuple(map(operator.add, image.getpixel((x,y)), (80,40,20))) )\n",
    "            elif color[0]=='yellow':\n",
    "                image.putpixel( (x, y), tuple(map(operator.add, image.getpixel((x,y)), (150,120,0))) )\n",
    "            elif color[0]=='pink':\n",
    "                image.putpixel( (x, y), tuple(map(operator.add, image.getpixel((x,y)), (200,0,100))) )\n",
    "            elif color[0]=='orange':\n",
    "                image.putpixel( (x, y), tuple(map(operator.add, image.getpixel((x,y)), (200,80,0))) )\n",
    "            elif color[0]=='purple':\n",
    "                image.putpixel( (x, y), tuple(map(operator.add, image.getpixel((x,y)), (80,0,120))) )\n",
    "            \n",
    "\n",
    "image.show()\n",
    "image.save('rgblogo.png')"
   ]
  }
 ],
 "metadata": {
  "kernelspec": {
   "display_name": "Python 3.7.0 64-bit",
   "language": "python",
   "name": "python3"
  },
  "language_info": {
   "codemirror_mode": {
    "name": "ipython",
    "version": 3
   },
   "file_extension": ".py",
   "mimetype": "text/x-python",
   "name": "python",
   "nbconvert_exporter": "python",
   "pygments_lexer": "ipython3",
   "version": "3.7.0 (v3.7.0:1bf9cc5093, Jun 27 2018, 04:59:51) [MSC v.1914 64 bit (AMD64)]"
  },
  "orig_nbformat": 4,
  "vscode": {
   "interpreter": {
    "hash": "f703ccf650467d2787b30a7549937d4a5b4f992dc13ef9b6cc8bda4cf48eca72"
   }
  }
 },
 "nbformat": 4,
 "nbformat_minor": 2
}
