{
 "cells": [
  {
   "cell_type": "code",
   "execution_count": null,
   "metadata": {},
   "outputs": [],
   "source": [
    "# import random\n",
    "# age=['children','youth','adults','seniors']\n",
    "# gender=['male','female']\n",
    "# socialclass=['a','b','c']\n",
    "# jobs=['weather','police','medical', 'engineer','sales','computer science','mass communication','cinema','education','restaurants','mechanic','enviroment']\n",
    "\n",
    "# print(random.choice(age),random.choice(gender),random.choice(socialclass),random.choice(jobs))\n",
    "\n",
    "# color=['red','green','yellow','blue','white','black','orange','pink','purple','brown']\n",
    "# font=['simple','complex','cartoonish','elegant']\n",
    "# position=['down','up','left','right']\n",
    "# print(random.choice(color),random.choice(font),random.choice(position))"
   ]
  },
  {
   "cell_type": "code",
   "execution_count": null,
   "metadata": {},
   "outputs": [],
   "source": [
    "# import xlwt\n",
    "# from xlwt import Workbook\n",
    "  \n",
    "# # Workbook is created\n",
    "# wb = Workbook()\n",
    "  \n",
    "# # add_sheet is used to create sheet.\n",
    "# sheet1 = wb.add_sheet('Sheet 1')\n",
    "  \n",
    "# # sheet1.write(2, 0, random.choice(age))\n",
    "# sheet1.write(0, 0, 'Age')\n",
    "# sheet1.write(0, 1, 'Gender')\n",
    "# sheet1.write(0, 2, 'Social Class')\n",
    "# sheet1.write(0, 3, 'Job')\n",
    "# sheet1.write(0, 4,'Color')\n",
    "# sheet1.write(0, 5, 'Font')\n",
    "# sheet1.write(0, 6, 'Position')\n",
    "\n",
    "# for i in range(1, 1000):\n",
    "#     sheet1.write(i, 0, random.choice(age))\n",
    "#     sheet1.write(i, 1, random.choice(gender))\n",
    "#     sheet1.write(i, 2, random.choice(socialclass))\n",
    "#     sheet1.write(i, 3, random.choice(jobs))\n",
    "#     sheet1.write(i, 4, random.choice(color))\n",
    "#     sheet1.write(i, 5, random.choice(font))\n",
    "#     sheet1.write(i, 6, random.choice(position))\n",
    "\n",
    "# wb.save('dummydata2.xls')"
   ]
  },
  {
   "cell_type": "code",
   "execution_count": null,
   "metadata": {},
   "outputs": [],
   "source": [
    "from sklearn import preprocessing\n",
    "from sklearn.model_selection import train_test_split\n",
    "from sklearn.neighbors import KNeighborsClassifier\n",
    "from sklearn.metrics import classification_report\n",
    "from sklearn.metrics import accuracy_score\n",
    "import matplotlib.pyplot as plt\n",
    "import seaborn as sns\n",
    "import pandas as pd\n",
    "import pickle"
   ]
  },
  {
   "cell_type": "code",
   "execution_count": 68,
   "metadata": {},
   "outputs": [
    {
     "data": {
      "text/html": [
       "<div>\n",
       "<style scoped>\n",
       "    .dataframe tbody tr th:only-of-type {\n",
       "        vertical-align: middle;\n",
       "    }\n",
       "\n",
       "    .dataframe tbody tr th {\n",
       "        vertical-align: top;\n",
       "    }\n",
       "\n",
       "    .dataframe thead th {\n",
       "        text-align: right;\n",
       "    }\n",
       "</style>\n",
       "<table border=\"1\" class=\"dataframe\">\n",
       "  <thead>\n",
       "    <tr style=\"text-align: right;\">\n",
       "      <th></th>\n",
       "      <th>Age</th>\n",
       "      <th>Gender</th>\n",
       "      <th>Social Class</th>\n",
       "      <th>Job</th>\n",
       "      <th>Color</th>\n",
       "      <th>Font</th>\n",
       "      <th>Position</th>\n",
       "    </tr>\n",
       "  </thead>\n",
       "  <tbody>\n",
       "    <tr>\n",
       "      <th>0</th>\n",
       "      <td>seniors</td>\n",
       "      <td>female</td>\n",
       "      <td>a</td>\n",
       "      <td>enviroment</td>\n",
       "      <td>blue</td>\n",
       "      <td>complex</td>\n",
       "      <td>up</td>\n",
       "    </tr>\n",
       "    <tr>\n",
       "      <th>1</th>\n",
       "      <td>youth</td>\n",
       "      <td>female</td>\n",
       "      <td>c</td>\n",
       "      <td>education</td>\n",
       "      <td>blue</td>\n",
       "      <td>simple</td>\n",
       "      <td>up</td>\n",
       "    </tr>\n",
       "    <tr>\n",
       "      <th>2</th>\n",
       "      <td>adults</td>\n",
       "      <td>male</td>\n",
       "      <td>a</td>\n",
       "      <td>mass communication</td>\n",
       "      <td>orange</td>\n",
       "      <td>elegant</td>\n",
       "      <td>left</td>\n",
       "    </tr>\n",
       "    <tr>\n",
       "      <th>3</th>\n",
       "      <td>adults</td>\n",
       "      <td>female</td>\n",
       "      <td>a</td>\n",
       "      <td>enviroment</td>\n",
       "      <td>black</td>\n",
       "      <td>simple</td>\n",
       "      <td>down</td>\n",
       "    </tr>\n",
       "    <tr>\n",
       "      <th>4</th>\n",
       "      <td>seniors</td>\n",
       "      <td>male</td>\n",
       "      <td>c</td>\n",
       "      <td>sales</td>\n",
       "      <td>yellow</td>\n",
       "      <td>simple</td>\n",
       "      <td>left</td>\n",
       "    </tr>\n",
       "  </tbody>\n",
       "</table>\n",
       "</div>"
      ],
      "text/plain": [
       "       Age  Gender Social Class                 Job   Color     Font Position\n",
       "0  seniors  female            a          enviroment    blue  complex       up\n",
       "1    youth  female            c           education    blue   simple       up\n",
       "2   adults    male            a  mass communication  orange  elegant     left\n",
       "3   adults  female            a          enviroment   black   simple     down\n",
       "4  seniors    male            c               sales  yellow   simple     left"
      ]
     },
     "execution_count": 68,
     "metadata": {},
     "output_type": "execute_result"
    }
   ],
   "source": [
    "df = pd.read_csv('dummydata2.csv')\n",
    "df.head()"
   ]
  },
  {
   "cell_type": "code",
   "execution_count": null,
   "metadata": {},
   "outputs": [],
   "source": [
    "df['Age'] = pd.factorize(df['Age'])[0]\n",
    "df['Gender'] = pd.factorize(df['Gender'])[0]\n",
    "df['Social Class'] = pd.factorize(df['Social Class'])[0]\n",
    "df['Job'] = pd.factorize(df['Job'])[0]\n",
    "df.head()"
   ]
  },
  {
   "cell_type": "code",
   "execution_count": null,
   "metadata": {},
   "outputs": [],
   "source": [
    "x_data = df.drop(['Color','Font','Position'],axis=1)\n",
    "y_color = df[['Color']]\n",
    "y_font = df[['Font']]\n",
    "y_position = df[['Position']]\n",
    "MinMaxScaler = preprocessing.MinMaxScaler()\n",
    "X_data_minmax = MinMaxScaler.fit_transform(x_data)\n",
    "data = pd.DataFrame(X_data_minmax,columns=['Age','Gender','Social Class','Job'])\n",
    "print(data.head())\n",
    "\n"
   ]
  },
  {
   "cell_type": "code",
   "execution_count": null,
   "metadata": {},
   "outputs": [],
   "source": [
    "X_train, X_test, y_train, y_test = train_test_split(data, y_position,test_size=0.2, random_state = 1)\n",
    "knn_clf=KNeighborsClassifier()\n",
    "knn_clf.fit(X_train,y_train)\n",
    "y_pred=knn_clf.predict(X_test)\n",
    "print(classification_report(y_test,y_pred))\n",
    "result2 = accuracy_score(y_test,y_pred)\n",
    "print('Accuracy:',result2)\n",
    "\n",
    "filename1 = 'knn_position_model.sav'\n",
    "pickle.dump(knn_clf, open(filename1, 'wb'))"
   ]
  },
  {
   "cell_type": "code",
   "execution_count": null,
   "metadata": {},
   "outputs": [],
   "source": [
    "loaded_model_position = pickle.load(open(filename1, 'rb'))\n",
    "result = loaded_model_position.score(X_test, y_test)\n",
    "print(result)"
   ]
  },
  {
   "cell_type": "code",
   "execution_count": null,
   "metadata": {},
   "outputs": [],
   "source": [
    "X_train, X_test, y_train, y_test = train_test_split(data, y_font,test_size=0.2, random_state = 1)\n",
    "knn_clf=KNeighborsClassifier()\n",
    "knn_clf.fit(X_train,y_train)\n",
    "y_pred=knn_clf.predict(X_test)\n",
    "print(classification_report(y_test,y_pred))\n",
    "result2 = accuracy_score(y_test,y_pred)\n",
    "print('Accuracy:',result2)\n",
    "\n",
    "filename2 = 'knn_font_model.sav'\n",
    "pickle.dump(knn_clf, open(filename2, 'wb'))"
   ]
  },
  {
   "cell_type": "code",
   "execution_count": null,
   "metadata": {},
   "outputs": [],
   "source": [
    "loaded_model_font = pickle.load(open(filename2, 'rb'))\n",
    "result = loaded_model_font.score(X_test, y_test)\n",
    "print(result)\n"
   ]
  },
  {
   "cell_type": "code",
   "execution_count": null,
   "metadata": {},
   "outputs": [],
   "source": [
    "from sklearn.metrics import classification_report, confusion_matrix, accuracy_score\n",
    "X_train, X_test, y_train, y_test = train_test_split(data, y_color,test_size=0.2, random_state = 1)\n",
    "knn_clf=KNeighborsClassifier()\n",
    "knn_clf.fit(X_train,y_train)\n",
    "y_pred=knn_clf.predict(X_test)\n",
    "print(classification_report(y_test,y_pred))\n",
    "result2 = accuracy_score(y_test,y_pred)\n",
    "print('Accuracy:',result2)\n",
    "\n",
    "filename3 = 'knn_color_model.sav'\n",
    "pickle.dump(knn_clf, open(filename3, 'wb'))\n",
    " "
   ]
  },
  {
   "cell_type": "code",
   "execution_count": null,
   "metadata": {},
   "outputs": [],
   "source": [
    "loaded_model_color = pickle.load(open(filename3, 'rb'))\n",
    "result = loaded_model_color.score(X_test, y_test)\n",
    "print(result)"
   ]
  },
  {
   "cell_type": "code",
   "execution_count": 71,
   "metadata": {},
   "outputs": [
    {
     "name": "stdout",
     "output_type": "stream",
     "text": [
      "['blue']\n",
      "['up']\n",
      "['cartoonish']\n"
     ]
    },
    {
     "name": "stderr",
     "output_type": "stream",
     "text": [
      "c:\\Users\\Fady\\AppData\\Local\\Programs\\Python\\Python37\\lib\\site-packages\\sklearn\\base.py:451: UserWarning: X does not have valid feature names, but KNeighborsClassifier was fitted with feature names\n",
      "  \"X does not have valid feature names, but\"\n",
      "c:\\Users\\Fady\\AppData\\Local\\Programs\\Python\\Python37\\lib\\site-packages\\sklearn\\base.py:451: UserWarning: X does not have valid feature names, but KNeighborsClassifier was fitted with feature names\n",
      "  \"X does not have valid feature names, but\"\n",
      "c:\\Users\\Fady\\AppData\\Local\\Programs\\Python\\Python37\\lib\\site-packages\\sklearn\\base.py:451: UserWarning: X does not have valid feature names, but KNeighborsClassifier was fitted with feature names\n",
      "  \"X does not have valid feature names, but\"\n"
     ]
    }
   ],
   "source": [
    "#input=['seniors','female','a','enviroment']\n",
    "input=[[0.0,0.0,0.0,0.0]]\n",
    "\n",
    "\n",
    "name='Name'\n",
    "slogan='Slogan'\n",
    "color=loaded_model_color.predict(input)\n",
    "position=loaded_model_position.predict(input)\n",
    "font=loaded_model_font.predict(input)\n",
    "print(color)\n",
    "print(position)\n",
    "print(font)"
   ]
  },
  {
   "cell_type": "code",
   "execution_count": null,
   "metadata": {},
   "outputs": [],
   "source": [
    "from PIL import Image\n",
    "from PIL import ImageDraw\n",
    "from PIL import ImageFont\n",
    "from matplotlib import colors\n",
    "\n",
    "def create_image(size, bgColor, name,slogan,sloganFont, font, position):\n",
    "    W, H = size\n",
    "    image = Image.new('RGB', size, bgColor)\n",
    "    draw = ImageDraw.Draw(image)\n",
    "    _, _, w, h = draw.textbbox((0, 0), name, font=font)\n",
    "    _, _, w2, h2 = draw.textbbox((0, 0), slogan, font=sloganFont)\n",
    "    if position == 'down':\n",
    "        draw.text(((W-max(w,w2))/2, (H/2+64)), name, font=font, fill='blue')\n",
    "        draw.text(((W-max(w,w2))/2, (H/2+64+h)), slogan, font=sloganFont, fill='green')\n",
    "    elif position == 'up':\n",
    "        draw.text(((W-max(w,w2))/2, (H-(h+h2))/2-h2-70), name, font=font, fill='blue')\n",
    "        draw.text(((W-max(w,w2))/2, (H-(h+h2))/2-64), slogan, font=sloganFont, fill='green')\n",
    "    elif position == 'left':\n",
    "        draw.text(((W/2-w-68), (H-(h+h2))/2), name, font=font, fill='blue')\n",
    "        draw.text(((W/2-w2-68), (H+h)/2), slogan, font=sloganFont, fill= 'green')\n",
    "    else:\n",
    "        draw.text(((W/2+68), (H-(h+h2))/2), name, font=font, fill='blue')\n",
    "        draw.text(((W/2+68), (H+h2)/2), slogan, font=sloganFont, fill='green')\n",
    "\n",
    "    return image\n",
    "\n",
    "\n",
    "myFont = ImageFont.truetype('fonts/'+font[0]+'.ttf', 40)\n",
    "sloganFont = ImageFont.truetype('fonts/'+font[0]+'.ttf', 30)\n",
    "\n",
    "img = create_image((800,800),'white',name,slogan,sloganFont,myFont,position[0])\n",
    "im2 = Image.open('logo.png')\n",
    "img.paste(im2,[int(400-im2.size[0]/2),int(400-im2.size[1]/2)])\n",
    "\n",
    "img.show()\n",
    "\n",
    "img.save(\"exampletextlogo.png\")"
   ]
  },
  {
   "cell_type": "code",
   "execution_count": null,
   "metadata": {},
   "outputs": [],
   "source": [
    "img = Image.open('exampletextlogo.png').convert('L')\n",
    "img.show()\n",
    "img.save('greyscale.png')"
   ]
  },
  {
   "cell_type": "code",
   "execution_count": null,
   "metadata": {},
   "outputs": [],
   "source": [
    "\n",
    "   \n",
    "# Importing Image from PIL package \n",
    "import numpy as np\n",
    "import cv2\n",
    "from PIL import Image\n",
    "import operator\n",
    "      \n",
    "# creating a image object\n",
    "gray = np.array(Image.open('greyscale.png')) \n",
    "image = cv2.cvtColor(gray,cv2.COLOR_GRAY2RGB)\n",
    "image =Image.fromarray(image)\n",
    "  \n",
    "width, height = image.size\n",
    "\n",
    "\n",
    "  \n",
    "for x in range(height):\n",
    "    for y in range(width):\n",
    "        if image.getpixel((x,y)) != (255,255,255):\n",
    "            image.putpixel( (x, y), tuple(map(operator.add, image.getpixel((x,y)), (0,50,150))) )\n",
    "            \n",
    "\n",
    "image.show()\n",
    "image.save('rgblogo.png')"
   ]
  }
 ],
 "metadata": {
  "kernelspec": {
   "display_name": "Python 3.7.0 64-bit",
   "language": "python",
   "name": "python3"
  },
  "language_info": {
   "codemirror_mode": {
    "name": "ipython",
    "version": 3
   },
   "file_extension": ".py",
   "mimetype": "text/x-python",
   "name": "python",
   "nbconvert_exporter": "python",
   "pygments_lexer": "ipython3",
   "version": "3.7.0"
  },
  "orig_nbformat": 4,
  "vscode": {
   "interpreter": {
    "hash": "f703ccf650467d2787b30a7549937d4a5b4f992dc13ef9b6cc8bda4cf48eca72"
   }
  }
 },
 "nbformat": 4,
 "nbformat_minor": 2
}
